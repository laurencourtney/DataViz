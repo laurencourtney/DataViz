{
 "cells": [
  {
   "cell_type": "markdown",
   "id": "functional-sigma",
   "metadata": {},
   "source": [
    "Import the data and functions I'll need"
   ]
  },
  {
   "cell_type": "code",
   "execution_count": 2,
   "id": "oriented-cherry",
   "metadata": {},
   "outputs": [],
   "source": [
    "import pandas as pd\n",
    "import matplotlib.pyplot as plt\n",
    "from bokeh.plotting import figure, output_file, show\n",
    "from bokeh.palettes import magma, brewer\n",
    "from bokeh.transform import factor_cmap\n",
    "from bokeh.models import Legend, HoverTool"
   ]
  },
  {
   "cell_type": "code",
   "execution_count": 3,
   "id": "liked-press",
   "metadata": {},
   "outputs": [],
   "source": [
    "df = pd.read_csv(\"Data1-workouts.csv\")"
   ]
  },
  {
   "cell_type": "markdown",
   "id": "eligible-ballet",
   "metadata": {},
   "source": [
    "Clean the data"
   ]
  },
  {
   "cell_type": "code",
   "execution_count": 4,
   "id": "polyphonic-delight",
   "metadata": {},
   "outputs": [],
   "source": [
    "df = df.drop([\"Unnamed: 0\"], axis=1)"
   ]
  },
  {
   "cell_type": "code",
   "execution_count": 5,
   "id": "plain-omega",
   "metadata": {},
   "outputs": [],
   "source": [
    "df.columns = ['ActivityType', 'Duration', 'DurationUnit',\n",
    "       'TotalDistance', 'TotalDistanceUnit', 'TotalEnergyBurned',\n",
    "       'TotalEnergyBurnedUnit', 'SourceName', 'SourceVersion', 'Device',\n",
    "       'CreationDate', 'StartDate', 'EndDate', 'MetadataEntry',\n",
    "       'WorkoutEvent', 'WorkoutRoute']"
   ]
  },
  {
   "cell_type": "code",
   "execution_count": 6,
   "id": "grand-badge",
   "metadata": {},
   "outputs": [],
   "source": [
    "df['ActivityType'] = df['ActivityType'].str.split('Type', expand=True)[1]"
   ]
  },
  {
   "cell_type": "code",
   "execution_count": 7,
   "id": "characteristic-tucson",
   "metadata": {},
   "outputs": [],
   "source": [
    "df = df.replace('HighIntensityIntervalTraining','HIIT')\n",
    "df = df.replace('FunctionalStrengthTraining','StrengthTraining')"
   ]
  },
  {
   "cell_type": "code",
   "execution_count": 8,
   "id": "growing-mount",
   "metadata": {},
   "outputs": [],
   "source": [
    "df['StartDate'] = pd.to_datetime(df['StartDate'])\n",
    "df['EndDate'] = pd.to_datetime(df['EndDate'])\n",
    "df['CreationDate'] = pd.to_datetime(df['CreationDate'])"
   ]
  },
  {
   "cell_type": "code",
   "execution_count": 9,
   "id": "middle-benchmark",
   "metadata": {},
   "outputs": [
    {
     "data": {
      "text/html": [
       "<div>\n",
       "<style scoped>\n",
       "    .dataframe tbody tr th:only-of-type {\n",
       "        vertical-align: middle;\n",
       "    }\n",
       "\n",
       "    .dataframe tbody tr th {\n",
       "        vertical-align: top;\n",
       "    }\n",
       "\n",
       "    .dataframe thead th {\n",
       "        text-align: right;\n",
       "    }\n",
       "</style>\n",
       "<table border=\"1\" class=\"dataframe\">\n",
       "  <thead>\n",
       "    <tr style=\"text-align: right;\">\n",
       "      <th></th>\n",
       "      <th>ActivityType</th>\n",
       "      <th>Duration</th>\n",
       "      <th>DurationUnit</th>\n",
       "      <th>TotalDistance</th>\n",
       "      <th>TotalDistanceUnit</th>\n",
       "      <th>TotalEnergyBurned</th>\n",
       "      <th>TotalEnergyBurnedUnit</th>\n",
       "      <th>SourceName</th>\n",
       "      <th>SourceVersion</th>\n",
       "      <th>Device</th>\n",
       "      <th>CreationDate</th>\n",
       "      <th>StartDate</th>\n",
       "      <th>EndDate</th>\n",
       "      <th>MetadataEntry</th>\n",
       "      <th>WorkoutEvent</th>\n",
       "      <th>WorkoutRoute</th>\n",
       "    </tr>\n",
       "  </thead>\n",
       "  <tbody>\n",
       "    <tr>\n",
       "      <th>0</th>\n",
       "      <td>Yoga</td>\n",
       "      <td>33.984384</td>\n",
       "      <td>min</td>\n",
       "      <td>0.000000</td>\n",
       "      <td>mi</td>\n",
       "      <td>109.529941</td>\n",
       "      <td>Cal</td>\n",
       "      <td>Laurenâ€™s AppleÂ Watch</td>\n",
       "      <td>6.2</td>\n",
       "      <td>&lt;&lt;HKDevice: 0x280dd9c20&gt;, name:Apple Watch, ma...</td>\n",
       "      <td>2020-05-05 09:04:15-05:00</td>\n",
       "      <td>2020-05-05 08:30:14-05:00</td>\n",
       "      <td>2020-05-05 09:04:13-05:00</td>\n",
       "      <td>[OrderedDict([('@key', 'HKIndoorWorkout'), ('@...</td>\n",
       "      <td>NaN</td>\n",
       "      <td>NaN</td>\n",
       "    </tr>\n",
       "    <tr>\n",
       "      <th>1</th>\n",
       "      <td>Walking</td>\n",
       "      <td>93.264205</td>\n",
       "      <td>min</td>\n",
       "      <td>5.463501</td>\n",
       "      <td>mi</td>\n",
       "      <td>467.828073</td>\n",
       "      <td>Cal</td>\n",
       "      <td>Laurenâ€™s AppleÂ Watch</td>\n",
       "      <td>6.2.1</td>\n",
       "      <td>&lt;&lt;HKDevice: 0x280ddab20&gt;, name:Apple Watch, ma...</td>\n",
       "      <td>2020-05-07 17:21:20-05:00</td>\n",
       "      <td>2020-05-07 15:47:49-05:00</td>\n",
       "      <td>2020-05-07 17:21:08-05:00</td>\n",
       "      <td>[OrderedDict([('@key', 'HKIndoorWorkout'), ('@...</td>\n",
       "      <td>[OrderedDict([('@type', 'HKWorkoutEventTypeSeg...</td>\n",
       "      <td>OrderedDict([('@sourceName', 'Laurenâ€™s Apple...</td>\n",
       "    </tr>\n",
       "    <tr>\n",
       "      <th>2</th>\n",
       "      <td>Walking</td>\n",
       "      <td>41.803265</td>\n",
       "      <td>min</td>\n",
       "      <td>1.734685</td>\n",
       "      <td>mi</td>\n",
       "      <td>131.107519</td>\n",
       "      <td>Cal</td>\n",
       "      <td>Laurenâ€™s AppleÂ Watch</td>\n",
       "      <td>6.2.1</td>\n",
       "      <td>&lt;&lt;HKDevice: 0x280ddab20&gt;, name:Apple Watch, ma...</td>\n",
       "      <td>2020-05-09 15:14:57-05:00</td>\n",
       "      <td>2020-05-09 14:20:27-05:00</td>\n",
       "      <td>2020-05-09 15:14:52-05:00</td>\n",
       "      <td>[OrderedDict([('@key', 'HKIndoorWorkout'), ('@...</td>\n",
       "      <td>[OrderedDict([('@type', 'HKWorkoutEventTypeSeg...</td>\n",
       "      <td>OrderedDict([('@sourceName', 'Laurenâ€™s Apple...</td>\n",
       "    </tr>\n",
       "    <tr>\n",
       "      <th>3</th>\n",
       "      <td>Yoga</td>\n",
       "      <td>28.382395</td>\n",
       "      <td>min</td>\n",
       "      <td>0.000000</td>\n",
       "      <td>mi</td>\n",
       "      <td>104.065670</td>\n",
       "      <td>Cal</td>\n",
       "      <td>Laurenâ€™s AppleÂ Watch</td>\n",
       "      <td>6.2.1</td>\n",
       "      <td>&lt;&lt;HKDevice: 0x280ddab20&gt;, name:Apple Watch, ma...</td>\n",
       "      <td>2020-05-12 13:37:24-05:00</td>\n",
       "      <td>2020-05-12 13:08:58-05:00</td>\n",
       "      <td>2020-05-12 13:37:21-05:00</td>\n",
       "      <td>[OrderedDict([('@key', 'HKIndoorWorkout'), ('@...</td>\n",
       "      <td>NaN</td>\n",
       "      <td>NaN</td>\n",
       "    </tr>\n",
       "    <tr>\n",
       "      <th>4</th>\n",
       "      <td>Walking</td>\n",
       "      <td>67.775918</td>\n",
       "      <td>min</td>\n",
       "      <td>3.875547</td>\n",
       "      <td>mi</td>\n",
       "      <td>308.604110</td>\n",
       "      <td>Cal</td>\n",
       "      <td>Laurenâ€™s AppleÂ Watch</td>\n",
       "      <td>6.2.1</td>\n",
       "      <td>&lt;&lt;HKDevice: 0x280ddab20&gt;, name:Apple Watch, ma...</td>\n",
       "      <td>2020-05-12 15:30:49-05:00</td>\n",
       "      <td>2020-05-12 14:22:50-05:00</td>\n",
       "      <td>2020-05-12 15:30:39-05:00</td>\n",
       "      <td>[OrderedDict([('@key', 'HKIndoorWorkout'), ('@...</td>\n",
       "      <td>[OrderedDict([('@type', 'HKWorkoutEventTypeSeg...</td>\n",
       "      <td>OrderedDict([('@sourceName', 'Laurenâ€™s Apple...</td>\n",
       "    </tr>\n",
       "  </tbody>\n",
       "</table>\n",
       "</div>"
      ],
      "text/plain": [
       "  ActivityType   Duration DurationUnit  TotalDistance TotalDistanceUnit  \\\n",
       "0         Yoga  33.984384          min       0.000000                mi   \n",
       "1      Walking  93.264205          min       5.463501                mi   \n",
       "2      Walking  41.803265          min       1.734685                mi   \n",
       "3         Yoga  28.382395          min       0.000000                mi   \n",
       "4      Walking  67.775918          min       3.875547                mi   \n",
       "\n",
       "   TotalEnergyBurned TotalEnergyBurnedUnit               SourceName  \\\n",
       "0         109.529941                   Cal  Laurenâ€™s AppleÂ Watch   \n",
       "1         467.828073                   Cal  Laurenâ€™s AppleÂ Watch   \n",
       "2         131.107519                   Cal  Laurenâ€™s AppleÂ Watch   \n",
       "3         104.065670                   Cal  Laurenâ€™s AppleÂ Watch   \n",
       "4         308.604110                   Cal  Laurenâ€™s AppleÂ Watch   \n",
       "\n",
       "  SourceVersion                                             Device  \\\n",
       "0           6.2  <<HKDevice: 0x280dd9c20>, name:Apple Watch, ma...   \n",
       "1         6.2.1  <<HKDevice: 0x280ddab20>, name:Apple Watch, ma...   \n",
       "2         6.2.1  <<HKDevice: 0x280ddab20>, name:Apple Watch, ma...   \n",
       "3         6.2.1  <<HKDevice: 0x280ddab20>, name:Apple Watch, ma...   \n",
       "4         6.2.1  <<HKDevice: 0x280ddab20>, name:Apple Watch, ma...   \n",
       "\n",
       "               CreationDate                 StartDate  \\\n",
       "0 2020-05-05 09:04:15-05:00 2020-05-05 08:30:14-05:00   \n",
       "1 2020-05-07 17:21:20-05:00 2020-05-07 15:47:49-05:00   \n",
       "2 2020-05-09 15:14:57-05:00 2020-05-09 14:20:27-05:00   \n",
       "3 2020-05-12 13:37:24-05:00 2020-05-12 13:08:58-05:00   \n",
       "4 2020-05-12 15:30:49-05:00 2020-05-12 14:22:50-05:00   \n",
       "\n",
       "                    EndDate  \\\n",
       "0 2020-05-05 09:04:13-05:00   \n",
       "1 2020-05-07 17:21:08-05:00   \n",
       "2 2020-05-09 15:14:52-05:00   \n",
       "3 2020-05-12 13:37:21-05:00   \n",
       "4 2020-05-12 15:30:39-05:00   \n",
       "\n",
       "                                       MetadataEntry  \\\n",
       "0  [OrderedDict([('@key', 'HKIndoorWorkout'), ('@...   \n",
       "1  [OrderedDict([('@key', 'HKIndoorWorkout'), ('@...   \n",
       "2  [OrderedDict([('@key', 'HKIndoorWorkout'), ('@...   \n",
       "3  [OrderedDict([('@key', 'HKIndoorWorkout'), ('@...   \n",
       "4  [OrderedDict([('@key', 'HKIndoorWorkout'), ('@...   \n",
       "\n",
       "                                        WorkoutEvent  \\\n",
       "0                                                NaN   \n",
       "1  [OrderedDict([('@type', 'HKWorkoutEventTypeSeg...   \n",
       "2  [OrderedDict([('@type', 'HKWorkoutEventTypeSeg...   \n",
       "3                                                NaN   \n",
       "4  [OrderedDict([('@type', 'HKWorkoutEventTypeSeg...   \n",
       "\n",
       "                                        WorkoutRoute  \n",
       "0                                                NaN  \n",
       "1  OrderedDict([('@sourceName', 'Laurenâ€™s Apple...  \n",
       "2  OrderedDict([('@sourceName', 'Laurenâ€™s Apple...  \n",
       "3                                                NaN  \n",
       "4  OrderedDict([('@sourceName', 'Laurenâ€™s Apple...  "
      ]
     },
     "execution_count": 9,
     "metadata": {},
     "output_type": "execute_result"
    }
   ],
   "source": [
    "df.head()"
   ]
  },
  {
   "cell_type": "code",
   "execution_count": 10,
   "id": "pregnant-cross",
   "metadata": {},
   "outputs": [
    {
     "name": "stdout",
     "output_type": "stream",
     "text": [
      "<class 'pandas.core.frame.DataFrame'>\n",
      "RangeIndex: 221 entries, 0 to 220\n",
      "Data columns (total 16 columns):\n",
      " #   Column                 Non-Null Count  Dtype                                 \n",
      "---  ------                 --------------  -----                                 \n",
      " 0   ActivityType           221 non-null    object                                \n",
      " 1   Duration               221 non-null    float64                               \n",
      " 2   DurationUnit           221 non-null    object                                \n",
      " 3   TotalDistance          221 non-null    float64                               \n",
      " 4   TotalDistanceUnit      221 non-null    object                                \n",
      " 5   TotalEnergyBurned      221 non-null    float64                               \n",
      " 6   TotalEnergyBurnedUnit  221 non-null    object                                \n",
      " 7   SourceName             221 non-null    object                                \n",
      " 8   SourceVersion          221 non-null    object                                \n",
      " 9   Device                 221 non-null    object                                \n",
      " 10  CreationDate           221 non-null    datetime64[ns, pytz.FixedOffset(-300)]\n",
      " 11  StartDate              221 non-null    datetime64[ns, pytz.FixedOffset(-300)]\n",
      " 12  EndDate                221 non-null    datetime64[ns, pytz.FixedOffset(-300)]\n",
      " 13  MetadataEntry          221 non-null    object                                \n",
      " 14  WorkoutEvent           131 non-null    object                                \n",
      " 15  WorkoutRoute           132 non-null    object                                \n",
      "dtypes: datetime64[ns, pytz.FixedOffset(-300)](3), float64(3), object(10)\n",
      "memory usage: 27.8+ KB\n"
     ]
    }
   ],
   "source": [
    "df.info()"
   ]
  },
  {
   "cell_type": "markdown",
   "id": "pregnant-individual",
   "metadata": {},
   "source": [
    "Visualization"
   ]
  },
  {
   "cell_type": "markdown",
   "id": "fatal-tonight",
   "metadata": {},
   "source": [
    "Let's start with a scatter plot in matplotlib"
   ]
  },
  {
   "cell_type": "code",
   "execution_count": 52,
   "id": "invisible-rates",
   "metadata": {},
   "outputs": [
    {
     "data": {
      "text/plain": [
       "<matplotlib.collections.PathCollection at 0x1c260a48b20>"
      ]
     },
     "execution_count": 52,
     "metadata": {},
     "output_type": "execute_result"
    },
    {
     "data": {
      "image/png": "[encoded data removed]",
      "text/plain": [
       "<Figure size 432x288 with 1 Axes>"
      ]
     },
     "metadata": {
      "needs_background": "light"
     },
     "output_type": "display_data"
    }
   ],
   "source": [
    "plt.scatter(df['StartDate'], df['Duration'], s=None, c=None, cmap=None)"
   ]
  },
  {
   "cell_type": "markdown",
   "id": "computational-effects",
   "metadata": {},
   "source": [
    "Weird, Apple thinks I went on a 24 hour run.. let's drop that outlier for the sake of visualization (it was definitely a bug) "
   ]
  },
  {
   "cell_type": "code",
   "execution_count": 18,
   "id": "built-prayer",
   "metadata": {},
   "outputs": [],
   "source": [
    "df = df[~(df['Duration'] == df['Duration'].max())]"
   ]
  },
  {
   "cell_type": "code",
   "execution_count": 19,
   "id": "pacific-listing",
   "metadata": {},
   "outputs": [
    {
     "data": {
      "text/plain": [
       "<matplotlib.collections.PathCollection at 0x22a93c17eb0>"
      ]
     },
     "execution_count": 19,
     "metadata": {},
     "output_type": "execute_result"
    },
    {
     "data": {
      "image/png": "[encoded data removed]",
      "text/plain": [
       "<Figure size 432x288 with 1 Axes>"
      ]
     },
     "metadata": {
      "needs_background": "light"
     },
     "output_type": "display_data"
    }
   ],
   "source": [
    "plt.scatter(df['StartDate'], df['Duration'], s=None, c=None, cmap=None)"
   ]
  },
  {
   "cell_type": "code",
   "execution_count": 20,
   "id": "inclusive-isolation",
   "metadata": {},
   "outputs": [
    {
     "data": {
      "text/plain": [
       "<matplotlib.legend.Legend at 0x22a96060e50>"
      ]
     },
     "execution_count": 20,
     "metadata": {},
     "output_type": "execute_result"
    },
    {
     "data": {
      "image/png": "[encoded data removed]",
      "text/plain": [
       "<Figure size 432x288 with 1 Axes>"
      ]
     },
     "metadata": {
      "needs_background": "light"
     },
     "output_type": "display_data"
    }
   ],
   "source": [
    "groups = df.groupby('ActivityType')\n",
    "for name, group in groups:\n",
    "    plt.plot(group['StartDate'], group['Duration'], marker='.', linestyle='', markersize=12, label=name)\n",
    "plt.legend()"
   ]
  },
  {
   "cell_type": "markdown",
   "id": "oriented-quick",
   "metadata": {},
   "source": [
    "Hmm matplotlib isn't exactly what we want, let's try bokeh"
   ]
  },
  {
   "cell_type": "code",
   "execution_count": 21,
   "id": "amateur-allocation",
   "metadata": {},
   "outputs": [],
   "source": [
    "output_file(\"Data1-Fitness.html\")"
   ]
  },
  {
   "cell_type": "code",
   "execution_count": 22,
   "id": "pressing-montreal",
   "metadata": {},
   "outputs": [],
   "source": [
    "graph = figure(title=\"Fitness Data Visualization\", plot_width=800, plot_height=300, x_axis_type='datetime')"
   ]
  },
  {
   "cell_type": "code",
   "execution_count": 23,
   "id": "painful-sterling",
   "metadata": {},
   "outputs": [],
   "source": [
    "graph.xaxis.axis_label = 'Date'\n",
    "graph.yaxis.axis_label = 'Duration (min)'"
   ]
  },
  {
   "cell_type": "code",
   "execution_count": 24,
   "id": "painted-matter",
   "metadata": {},
   "outputs": [],
   "source": [
    "activities = df['ActivityType'].unique()\n",
    "colors = brewer['Set1'][len(activities)]\n",
    "colormap = {activities[i]: colors[i] for i in range(len(activities))}\n",
    "color_list = [colormap[x] for x in df['ActivityType']]"
   ]
  },
  {
   "cell_type": "code",
   "execution_count": 25,
   "id": "numerous-north",
   "metadata": {},
   "outputs": [],
   "source": [
    "legend_it = []\n",
    "\n",
    "for activity in activities:\n",
    "    lil_df = df[df['ActivityType'] == activity]\n",
    "    c = graph.scatter(x='StartDate', y='Duration', source=lil_df, color=colormap[activity], alpha=0.8,\n",
    "           muted_color=colormap[activity], muted_alpha=0.2, size=7)\n",
    "    legend_it.append((activity, [c]))\n",
    "\n",
    "\n",
    "legend = Legend(items=legend_it)\n",
    "legend.click_policy=\"mute\"\n",
    "\n",
    "graph.add_layout(legend, 'right')"
   ]
  },
  {
   "cell_type": "code",
   "execution_count": 26,
   "id": "premier-ethics",
   "metadata": {},
   "outputs": [],
   "source": [
    "hover = HoverTool(\n",
    "    tooltips = [\n",
    "        (\"Calories Burned\", '@TotalEnergyBurned{0.0}'),\n",
    "    ], \n",
    ")\n",
    "graph.add_tools(hover)"
   ]
  },
  {
   "cell_type": "code",
   "execution_count": 27,
   "id": "painful-director",
   "metadata": {},
   "outputs": [],
   "source": [
    "show(graph)"
   ]
  },
  {
   "cell_type": "code",
   "execution_count": null,
   "id": "tested-payment",
   "metadata": {},
   "outputs": [],
   "source": []
  }
 ],
 "metadata": {
  "kernelspec": {
   "display_name": "Python 3",
   "language": "python",
   "name": "python3"
  },
  "language_info": {
   "codemirror_mode": {
    "name": "ipython",
    "version": 3
   },
   "file_extension": ".py",
   "mimetype": "text/x-python",
   "name": "python",
   "nbconvert_exporter": "python",
   "pygments_lexer": "ipython3",
   "version": "3.9.1"
  }
 },
 "nbformat": 4,
 "nbformat_minor": 5
}
